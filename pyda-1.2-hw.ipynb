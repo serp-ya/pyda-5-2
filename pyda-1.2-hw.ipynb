{
 "cells": [
  {
   "cell_type": "markdown",
   "metadata": {},
   "source": [
    "## Задание 1"
   ]
  },
  {
   "cell_type": "markdown",
   "metadata": {},
   "source": [
    "Дан список с визитами по городам и странам. \n",
    "Напишите код, который возвращает отфильтрованный список geo_logs, содержащий только визиты из России."
   ]
  },
  {
   "cell_type": "code",
   "execution_count": 4,
   "metadata": {},
   "outputs": [],
   "source": [
    "geo_logs = [\n",
    "    {'visit1': ['Москва', 'Россия']},\n",
    "    {'visit2': ['Дели', 'Индия']},\n",
    "    {'visit3': ['Владимир', 'Россия']},\n",
    "    {'visit4': ['Лиссабон', 'Португалия']},\n",
    "    {'visit5': ['Париж', 'Франция']},\n",
    "    {'visit6': ['Лиссабон', 'Португалия']},\n",
    "    {'visit7': ['Тула', 'Россия']},\n",
    "    {'visit8': ['Тула', 'Россия']},\n",
    "    {'visit9': ['Курск', 'Россия']},\n",
    "    {'visit10': ['Архангельск', 'Россия']}\n",
    "]"
   ]
  },
  {
   "cell_type": "code",
   "execution_count": 39,
   "metadata": {},
   "outputs": [
    {
     "name": "stdout",
     "output_type": "stream",
     "text": [
      "[{'visit1': ['Москва', 'Россия']},\n",
      " {'visit3': ['Владимир', 'Россия']},\n",
      " {'visit7': ['Тула', 'Россия']},\n",
      " {'visit8': ['Тула', 'Россия']},\n",
      " {'visit9': ['Курск', 'Россия']},\n",
      " {'visit10': ['Архангельск', 'Россия']}]\n",
      "\n",
      "[{'visit1': ['Москва', 'Россия']},\n",
      " {'visit3': ['Владимир', 'Россия']},\n",
      " {'visit7': ['Тула', 'Россия']},\n",
      " {'visit8': ['Тула', 'Россия']},\n",
      " {'visit9': ['Курск', 'Россия']},\n",
      " {'visit10': ['Архангельск', 'Россия']}]\n"
     ]
    }
   ],
   "source": [
    "import pprint\n",
    "\n",
    "short_filtered = list(filter(lambda visit: 'Россия' in list(visit.values())[0], geo_logs))\n",
    "\n",
    "# or\n",
    "filtered_geo_logs = []\n",
    "for visit in geo_logs:\n",
    "    visit_values = list(visit.values())\n",
    "    if ('Россия' in visit_values[0]):\n",
    "      filtered_geo_logs.append(visit)\n",
    "\n",
    "pprint.pprint(short_filtered)\n",
    "print() # mean \\n\n",
    "pprint.pprint(filtered_geo_logs)"
   ]
  },
  {
   "cell_type": "markdown",
   "metadata": {},
   "source": [
    "## Задание 2"
   ]
  },
  {
   "cell_type": "markdown",
   "metadata": {},
   "source": [
    "Выведите на экран все уникальные гео-ID из значений словаря ids. Т. е. список вида [213, 15, 54, 119, 98, 35]"
   ]
  },
  {
   "cell_type": "code",
   "execution_count": 40,
   "metadata": {},
   "outputs": [],
   "source": [
    "ids = {'user1': [213, 213, 213, 15, 213], \n",
    "       'user2': [54, 54, 119, 119, 119], \n",
    "       'user3': [213, 98, 98, 35]}"
   ]
  },
  {
   "cell_type": "code",
   "execution_count": 76,
   "metadata": {},
   "outputs": [
    {
     "name": "stdout",
     "output_type": "stream",
     "text": [
      "short_set {98, 35, 15, 213, 54, 119}\n",
      "long_set {98, 35, 15, 213, 54, 119}\n"
     ]
    }
   ],
   "source": [
    "from functools import reduce\n",
    "\n",
    "short_set = set(reduce(lambda res, num_list: res + num_list, ids.values()))\n",
    "\n",
    "# or\n",
    "\n",
    "def reducer(num_set, num_list):\n",
    "    num_set.update(num_list)\n",
    "    return num_set\n",
    "\n",
    "long_set = reduce(reducer, list(ids.values()), set())\n",
    "\n",
    "print('short_set', short_set)\n",
    "print('long_set', long_set)"
   ]
  },
  {
   "cell_type": "markdown",
   "metadata": {},
   "source": [
    "## Задание 3"
   ]
  },
  {
   "cell_type": "markdown",
   "metadata": {},
   "source": [
    "Дан список поисковых запросов. Получить распределение количества слов в них. \n",
    "Т. е. поисковых запросов из одного - слова 5%, из двух - 7%, из трех - 3% и т.д."
   ]
  },
  {
   "cell_type": "code",
   "execution_count": 68,
   "metadata": {},
   "outputs": [],
   "source": [
    "queries = [\n",
    "    'смотреть сериалы онлайн',\n",
    "    'новости спорта',\n",
    "    'афиша кино',\n",
    "    'курс доллара',\n",
    "    'сериалы этим летом',\n",
    "    'курс по питону',\n",
    "    'сериалы про спорт',\n",
    "]"
   ]
  },
  {
   "cell_type": "code",
   "execution_count": 77,
   "metadata": {},
   "outputs": [
    {
     "data": {
      "text/plain": [
       "{3: 57.14285714285714, 2: 42.857142857142854}"
      ]
     },
     "execution_count": 77,
     "metadata": {},
     "output_type": "execute_result"
    }
   ],
   "source": [
    "def count_words(phrase, separator=' '):\n",
    "    return len(phrase.split(separator))\n",
    "\n",
    "def count_prases_by_words_len(phrases_list):\n",
    "    phrases_by_words_len = {}\n",
    "\n",
    "    for phrase in phrases_list:\n",
    "        words_count_in_phrase = count_words(phrase)\n",
    "        key_is_exist = phrases_by_words_len.get(words_count_in_phrase)\n",
    "        if not key_is_exist:\n",
    "            phrases_by_words_len[words_count_in_phrase] = 0\n",
    "\n",
    "        phrases_by_words_len[words_count_in_phrase] += 1\n",
    "        \n",
    "    return phrases_by_words_len\n",
    "\n",
    "def count_words_by_percents(phrases_list):\n",
    "    words_by_percents = {}\n",
    "    phrases_by_word_len = count_prases_by_words_len(phrases_list)\n",
    "    count_of_phrases = len(phrases_list)\n",
    "\n",
    "    for prase_len, count in phrases_by_word_len.items():\n",
    "        words_by_percents[prase_len] = count / count_of_phrases * 100 \n",
    "    \n",
    "    return words_by_percents\n",
    "\n",
    "count_words_by_percents(queries)"
   ]
  },
  {
   "cell_type": "markdown",
   "metadata": {},
   "source": [
    "## Задание 4"
   ]
  },
  {
   "cell_type": "markdown",
   "metadata": {},
   "source": [
    "Дана статистика рекламных каналов по объемам продаж. Напишите скрипт, который возвращает название канала с максимальным объемом.\n",
    "Т. е. в данном примере скрипт должен возвращать 'yandex'."
   ]
  },
  {
   "cell_type": "code",
   "execution_count": 81,
   "metadata": {},
   "outputs": [],
   "source": [
    "stats = {'facebook': 55, 'yandex': 120, 'vk': 115, 'google': 99, 'email': 42, 'ok': 98}"
   ]
  },
  {
   "cell_type": "code",
   "execution_count": 95,
   "metadata": {},
   "outputs": [
    {
     "data": {
      "text/plain": [
       "'yandex'"
      ]
     },
     "execution_count": 95,
     "metadata": {},
     "output_type": "execute_result"
    }
   ],
   "source": [
    "def find_max_item_name(stat_dict):\n",
    "    max_value: int = 0\n",
    "    result: str = ''\n",
    "    for item_key in stat_dict.keys():\n",
    "        item_value = stat_dict[item_key]\n",
    "        if item_value > max_value:\n",
    "            max_value = item_value\n",
    "            result = item_key\n",
    "    return result\n",
    "\n",
    "find_max_item_name(stats)"
   ]
  },
  {
   "cell_type": "markdown",
   "metadata": {},
   "source": [
    "## Задание 5"
   ]
  },
  {
   "cell_type": "markdown",
   "metadata": {},
   "source": [
    "Дан поток логов по количеству просмотренных страниц для каждого пользователя. Список отсортирован по ID пользователя. Вам необходимо написать алгоритм, который считает среднее значение просмотров на пользователя. \n",
    "Т. е. надо посчитать отношение суммы всех просмотров к количеству уникальных пользователей."
   ]
  },
  {
   "cell_type": "code",
   "execution_count": 96,
   "metadata": {},
   "outputs": [],
   "source": [
    "stream = [\n",
    "    '2018-01-01,user1,3',\n",
    "    '2018-01-07,user1,4',\n",
    "    '2018-03-29,user1,1',\n",
    "    '2018-04-04,user1,13',\n",
    "    '2018-01-05,user2,7',\n",
    "    '2018-06-14,user3,4',\n",
    "    '2018-07-02,user3,10',\n",
    "    '2018-03-21,user4,19',\n",
    "    '2018-03-22,user4,4',\n",
    "    '2018-04-22,user4,8',\n",
    "    '2018-05-03,user4,9',\n",
    "    '2018-05-11,user4,11',\n",
    "]"
   ]
  },
  {
   "cell_type": "code",
   "execution_count": 103,
   "metadata": {},
   "outputs": [
    {
     "data": {
      "text/plain": [
       "7.75"
      ]
     },
     "execution_count": 103,
     "metadata": {},
     "output_type": "execute_result"
    }
   ],
   "source": [
    "def split_log_str(log: str, separator=','):\n",
    "    return log.split(separator)\n",
    "    \n",
    "def get_log_view_count(log: str) -> int:\n",
    "    return int(split_log_str(log)[-1])\n",
    "\n",
    "def calc_view_averge(logs_list):\n",
    "    logs_count = len(logs_list)\n",
    "    views = map(lambda log: get_log_view_count(log), logs_list)\n",
    "    return sum(views) / logs_count\n",
    "\n",
    "calc_view_averge(stream)"
   ]
  },
  {
   "cell_type": "markdown",
   "metadata": {},
   "source": [
    "## Задание 6"
   ]
  },
  {
   "cell_type": "markdown",
   "metadata": {},
   "source": [
    "Дана статистика рекламных кампаний по дням. Напишите алгоритм, который по паре дата-кампания ищет значение численного столбца. \n",
    "Т. е. для даты '2018-01-01' и 'google' нужно получить число 25. \n",
    "Считайте, что все комбинации дата-кампания уникальны."
   ]
  },
  {
   "cell_type": "code",
   "execution_count": 108,
   "metadata": {},
   "outputs": [],
   "source": [
    "stats = [\n",
    "    ['2018-01-01', 'google', 25],\n",
    "    ['2018-01-01', 'yandex', 65],\n",
    "    ['2018-01-01', 'market', 89],\n",
    "    ['2018-01-02', 'google', 574],\n",
    "    ['2018-01-02', 'yandex', 249],\n",
    "    ['2018-01-02', 'market', 994],\n",
    "    ['2018-01-03', 'google', 1843],\n",
    "    ['2018-01-03', 'yandex', 1327],\n",
    "    ['2018-01-03', 'market', 1764],\n",
    "]"
   ]
  },
  {
   "cell_type": "code",
   "execution_count": 109,
   "metadata": {},
   "outputs": [
    {
     "name": "stdout",
     "output_type": "stream",
     "text": [
      "[1] >>> 25\n",
      "[2] >>> 249\n",
      "[3] >>> 1764\n"
     ]
    }
   ],
   "source": [
    "def find_by_comp_and_date(stat_list, company: str, date: str):\n",
    "    for stat in stat_list:\n",
    "        if company in stat and date in stat:\n",
    "            return stat[-1]\n",
    "        \n",
    "print('[1] >>>', find_by_comp_and_date(stats, 'google', '2018-01-01'))\n",
    "print('[2] >>>', find_by_comp_and_date(stats, 'yandex', '2018-01-02'))\n",
    "print('[3] >>>', find_by_comp_and_date(stats, 'market', '2018-01-03'))"
   ]
  }
 ],
 "metadata": {
  "kernelspec": {
   "display_name": "Python 3",
   "language": "python",
   "name": "python3"
  },
  "language_info": {
   "codemirror_mode": {
    "name": "ipython",
    "version": 3
   },
   "file_extension": ".py",
   "mimetype": "text/x-python",
   "name": "python",
   "nbconvert_exporter": "python",
   "pygments_lexer": "ipython3",
   "version": "3.7.3"
  }
 },
 "nbformat": 4,
 "nbformat_minor": 2
}
